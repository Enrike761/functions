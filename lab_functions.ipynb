{
 "cells": [
  {
   "cell_type": "markdown",
   "id": "64124ba7-a997-4cf7-862f-954cc7437da9",
   "metadata": {},
   "source": [
    "#ejercicio 1"
   ]
  },
  {
   "cell_type": "code",
   "execution_count": 2,
   "id": "cd274713-1cd2-4b5c-a9b3-d5800427ec47",
   "metadata": {},
   "outputs": [],
   "source": [
    "products = [\"t-shirt\", \"mug\", \"hat\", \"book\", \"keychain\"]"
   ]
  },
  {
   "cell_type": "code",
   "execution_count": 3,
   "id": "0ec8d937-9f0b-4e9c-81c3-41689e099d88",
   "metadata": {},
   "outputs": [],
   "source": [
    "def initialize_inventory(products_list):\n",
    "    inventory={}\n",
    "    for x in products_list:\n",
    "        inventory[x] = int(input(f\"\"\"introduce el número de {x}\"\"\")) #importante añadir la x en inventory[x], sino no se añade al dict\n",
    "    return inventory"
   ]
  },
  {
   "cell_type": "code",
   "execution_count": 4,
   "id": "a4a41670-45c5-47d4-b8f2-c845dbc801cd",
   "metadata": {},
   "outputs": [
    {
     "name": "stdin",
     "output_type": "stream",
     "text": [
      "introduce el número de t-shirt 3\n",
      "introduce el número de mug 5\n",
      "introduce el número de hat 2\n",
      "introduce el número de book 5\n",
      "introduce el número de keychain 6\n"
     ]
    },
    {
     "data": {
      "text/plain": [
       "{'t-shirt': 3, 'mug': 5, 'hat': 2, 'book': 5, 'keychain': 6}"
      ]
     },
     "execution_count": 4,
     "metadata": {},
     "output_type": "execute_result"
    }
   ],
   "source": [
    "initialize_inventory(products)"
   ]
  },
  {
   "cell_type": "code",
   "execution_count": 5,
   "id": "f56c1ba6-78d8-486b-839f-a1f972b1fa24",
   "metadata": {},
   "outputs": [
    {
     "name": "stdin",
     "output_type": "stream",
     "text": [
      "introduce el número de t-shirt 5\n",
      "introduce el número de mug 6\n",
      "introduce el número de hat 3\n",
      "introduce el número de book 6\n",
      "introduce el número de keychain 3\n"
     ]
    }
   ],
   "source": [
    "inventory = initialize_inventory(products)"
   ]
  },
  {
   "cell_type": "code",
   "execution_count": 16,
   "id": "688b0987-ca58-4cab-ad91-eabd394b3bfd",
   "metadata": {},
   "outputs": [
    {
     "name": "stdout",
     "output_type": "stream",
     "text": [
      "{'t-shirt': 5, 'mug': 6, 'hat': 3, 'book': 6, 'keychain': 3}\n"
     ]
    }
   ],
   "source": [
    "print(inventory)"
   ]
  },
  {
   "cell_type": "markdown",
   "id": "3d5b6680-6b26-4a27-b702-5dd03a7e915e",
   "metadata": {},
   "source": [
    "#ejercicio 2"
   ]
  },
  {
   "cell_type": "markdown",
   "id": "ddad4c05-5dd3-4667-986c-5083eba146dc",
   "metadata": {},
   "source": [
    "customer_orders = set()\n",
    "def get_customer_orders():\n",
    "    for x in inventory:\n",
    "        customer_orders=input(f\"\"\"introduce el producto que desees de {x}\"\"\")\n",
    "return get_customer_orders()\n",
    "print(customer_orders) #de esta manera obtenemos un loop infinito por lo que haremos una pregunta al usuario"
   ]
  },
  {
   "cell_type": "code",
   "execution_count": 20,
   "id": "9dfcdfd7-2193-494d-8666-4d5e4e594bb0",
   "metadata": {},
   "outputs": [
    {
     "name": "stdin",
     "output_type": "stream",
     "text": [
      "quieres pedir t-shirt, yes/no yes\n",
      "quieres pedir mug, yes/no yes\n",
      "quieres pedir hat, yes/no no\n"
     ]
    },
    {
     "name": "stdout",
     "output_type": "stream",
     "text": [
      "{'t-shirt', 'mug'}\n"
     ]
    }
   ],
   "source": [
    "\n",
    "def get_customer_orders():\n",
    "    products2 = [\"t-shirt\", \"mug\", \"hat\", \"book\", \"keychain\"]\n",
    "    customer_orders = set()\n",
    "    for x in products2:\n",
    "        respuesta = input(f\"\"\"quieres pedir {x}, yes/no\"\"\")\n",
    "        if respuesta.lower() == \"yes\":\n",
    "            customer_orders.add(x)\n",
    "        else:\n",
    "            break\n",
    "    return customer_orders\n",
    "customer_orders=get_customer_orders()\n",
    "print(customer_orders)"
   ]
  },
  {
   "cell_type": "code",
   "execution_count": 22,
   "id": "dead5a3d-ecf3-4f5c-9f44-d9e0b30ad9eb",
   "metadata": {},
   "outputs": [
    {
     "name": "stdout",
     "output_type": "stream",
     "text": [
      "{'t-shirt', 'mug'}\n"
     ]
    }
   ],
   "source": [
    "print(customer_orders)"
   ]
  },
  {
   "cell_type": "code",
   "execution_count": 24,
   "id": "39270747-7c6a-4354-8f88-651957db7c4b",
   "metadata": {},
   "outputs": [
    {
     "data": {
      "text/plain": [
       "set"
      ]
     },
     "execution_count": 24,
     "metadata": {},
     "output_type": "execute_result"
    }
   ],
   "source": [
    "type(customer_orders)"
   ]
  },
  {
   "cell_type": "markdown",
   "id": "4aaaf573-31f5-42b2-a099-aed8110787a1",
   "metadata": {},
   "source": [
    "#ejercicio 3"
   ]
  },
  {
   "cell_type": "code",
   "execution_count": 30,
   "id": "c231c852-f07a-40ec-bac2-3e253a1a8c75",
   "metadata": {},
   "outputs": [
    {
     "data": {
      "text/plain": [
       "{'t-shirt': 3, 'mug': 4, 'hat': 3, 'book': 6, 'keychain': 3}"
      ]
     },
     "execution_count": 30,
     "metadata": {},
     "output_type": "execute_result"
    }
   ],
   "source": [
    "def update_inventory(customer_orders_updated,inventory_updated):\n",
    "    for product in customer_orders_updated:\n",
    "        if product in inventory_updated:\n",
    "            inventory_updated[product] -= 1\n",
    "    return inventory_updated\n",
    "update_inventory(customer_orders,inventory)"
   ]
  },
  {
   "cell_type": "code",
   "execution_count": 32,
   "id": "d29947c5-0d66-4cda-aeed-1d3171593a2a",
   "metadata": {},
   "outputs": [
    {
     "name": "stdout",
     "output_type": "stream",
     "text": [
      "{'t-shirt': 3, 'mug': 4, 'hat': 3, 'book': 6, 'keychain': 3}\n"
     ]
    }
   ],
   "source": [
    "print(inventory)"
   ]
  },
  {
   "cell_type": "code",
   "execution_count": 34,
   "id": "e85cd274-9ae4-445d-b1c3-5d978fe635c7",
   "metadata": {},
   "outputs": [],
   "source": [
    "updated_inventory = update_inventory(customer_orders,inventory)"
   ]
  },
  {
   "cell_type": "markdown",
   "id": "800b1252-7ed4-47b1-8fc6-05409d4999bb",
   "metadata": {},
   "source": [
    "#ejercicio 4"
   ]
  },
  {
   "cell_type": "code",
   "execution_count": 36,
   "id": "fb23e239-24a2-498f-a163-a7e915312d85",
   "metadata": {},
   "outputs": [
    {
     "data": {
      "text/plain": [
       "2"
      ]
     },
     "execution_count": 36,
     "metadata": {},
     "output_type": "execute_result"
    }
   ],
   "source": [
    "len(customer_orders)"
   ]
  },
  {
   "cell_type": "code",
   "execution_count": 42,
   "id": "4d6275c3-6763-42bc-8ba5-2f53e2a7d934",
   "metadata": {},
   "outputs": [],
   "source": [
    "def calculate_order_statistics(customer_ordersx,productsx):\n",
    "    Total_Products_Ordered = len(customer_ordersx)\n",
    "    Percentage_of_Products_Ordered =len(customer_ordersx) / len(productsx) *100\n",
    "    return Total_Products_Ordered,Percentage_of_Products_Ordered"
   ]
  },
  {
   "cell_type": "code",
   "execution_count": 44,
   "id": "66dd3b98-7e31-4a65-a31c-ebaceaac44a4",
   "metadata": {},
   "outputs": [
    {
     "data": {
      "text/plain": [
       "(2, 40.0)"
      ]
     },
     "execution_count": 44,
     "metadata": {},
     "output_type": "execute_result"
    }
   ],
   "source": [
    "calculate_order_statistics(customer_orders,products) #obtenemos una tupla"
   ]
  },
  {
   "cell_type": "markdown",
   "id": "5d466504-4408-493d-932b-47aaff06551d",
   "metadata": {},
   "source": [
    "x,y =calculate_order_statistics(customer_orders,products)"
   ]
  },
  {
   "cell_type": "markdown",
   "id": "0b9b092d-a50e-46cd-8242-6d4eb2a25c37",
   "metadata": {},
   "source": [
    "x"
   ]
  },
  {
   "cell_type": "code",
   "execution_count": 50,
   "id": "f50d9434-ce67-4bcd-8fc5-2ad1fab5004c",
   "metadata": {},
   "outputs": [],
   "source": [
    "order_statistics = calculate_order_statistics(customer_orders,products)"
   ]
  },
  {
   "cell_type": "code",
   "execution_count": 62,
   "id": "ebf4ad6c-de3c-4f57-9749-d55def374a93",
   "metadata": {},
   "outputs": [
    {
     "name": "stdout",
     "output_type": "stream",
     "text": [
      "total products ordered: 2 y porcentaje del total: 40%\n"
     ]
    }
   ],
   "source": [
    "def print_order_statistics(order_statistics):\n",
    "    print(f\"\"\"total products ordered: {order_statistics[0]} y porcentaje del total: {int(order_statistics[1])}%\"\"\")\n",
    "print_order_statistics(order_statistics)"
   ]
  },
  {
   "cell_type": "code",
   "execution_count": null,
   "id": "75596841-90d1-4522-93cf-ef4dee0052f4",
   "metadata": {},
   "outputs": [],
   "source": [
    "updated_inventory = inventory.update(customer_orders)\n",
    "def print_updated_inventory(inventory):\n",
    "    updated_inventory = inventory.update(customer_orders)\n",
    "print(updated_inventory) #si defino una variable dentro de una función no cuenta en ámbitos generales"
   ]
  },
  {
   "cell_type": "code",
   "execution_count": null,
   "id": "9daf11d3-b125-47dc-a8cc-d4b187cfe9e5",
   "metadata": {},
   "outputs": [],
   "source": [
    "updated_inventory"
   ]
  },
  {
   "cell_type": "code",
   "execution_count": null,
   "id": "9f8fccb8-fa36-4538-939e-04ffdbbf6977",
   "metadata": {},
   "outputs": [],
   "source": []
  }
 ],
 "metadata": {
  "kernelspec": {
   "display_name": "Python 3 (ipykernel)",
   "language": "python",
   "name": "python3"
  },
  "language_info": {
   "codemirror_mode": {
    "name": "ipython",
    "version": 3
   },
   "file_extension": ".py",
   "mimetype": "text/x-python",
   "name": "python",
   "nbconvert_exporter": "python",
   "pygments_lexer": "ipython3",
   "version": "3.12.4"
  }
 },
 "nbformat": 4,
 "nbformat_minor": 5
}
